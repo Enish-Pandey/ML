{
 "cells": [
  {
   "cell_type": "markdown",
   "id": "5ec5f3c4",
   "metadata": {},
   "source": [
    "# The following code fetches MNIST dataset"
   ]
  },
  {
   "cell_type": "code",
   "execution_count": 1,
   "id": "e01ca237",
   "metadata": {},
   "outputs": [],
   "source": [
    "from sklearn.datasets import fetch_openml"
   ]
  },
  {
   "cell_type": "code",
   "execution_count": 2,
   "id": "6f78ec4d",
   "metadata": {},
   "outputs": [
    {
     "data": {
      "text/plain": [
       "dict_keys(['data', 'target', 'frame', 'categories', 'feature_names', 'target_names', 'DESCR', 'details', 'url'])"
      ]
     },
     "execution_count": 2,
     "metadata": {},
     "output_type": "execute_result"
    }
   ],
   "source": [
    "mnist = fetch_openml('mnist_784')\n",
    "mnist.keys()"
   ]
  },
  {
   "cell_type": "markdown",
   "id": "3d8fe7f2",
   "metadata": {},
   "source": [
    "# Exploring The Dataset\n"
   ]
  },
  {
   "cell_type": "code",
   "execution_count": null,
   "id": "48c158a5",
   "metadata": {},
   "outputs": [],
   "source": [
    "\n"
   ]
  },
  {
   "cell_type": "code",
   "execution_count": 3,
   "id": "3565943a",
   "metadata": {},
   "outputs": [
    {
     "name": "stdout",
     "output_type": "stream",
     "text": [
      "Requirement already satisfied: numpy in c:\\users\\dell\\anaconda3\\lib\\site-packages (1.20.3)Note: you may need to restart the kernel to use updated packages.\n",
      "\n"
     ]
    }
   ],
   "source": [
    "pip install numpy\n"
   ]
  },
  {
   "cell_type": "code",
   "execution_count": 4,
   "id": "42e4b042",
   "metadata": {},
   "outputs": [
    {
     "data": {
      "image/png": "[encoded data removed]",
      "text/plain": [
       "<Figure size 432x288 with 1 Axes>"
      ]
     },
     "metadata": {
      "needs_background": "light"
     },
     "output_type": "display_data"
    },
    {
     "data": {
      "text/plain": [
       "'0'"
      ]
     },
     "execution_count": 4,
     "metadata": {},
     "output_type": "execute_result"
    }
   ],
   "source": [
    "# import matplotlib as mlb\n",
    "# import matplotlib.pyplot as plt\n",
    "\n",
    "# X, y =  mnist[\"data\"], mnist[\"target\"]\n",
    "# some_digit = X[4800]\n",
    "# some_digit_image = some_digit.reshape(28,28)\n",
    "# plt.imshow(some_digit_image, cmap=mlb.cm.binary, interpolation=\"nearest\")\n",
    "# plt.axis(\"off\")\n",
    "# plt.show()\n",
    "import numpy as np\n",
    "from numpy import random\n",
    "import matplotlib\n",
    "import matplotlib.pyplot as plt\n",
    "i = random.randint(0,70000)\n",
    "X, y = mnist['data'], mnist['target']\n",
    "random_digit = X.to_numpy()[i]\n",
    "random_digit_image = random_digit.reshape(28,28)\n",
    "plt.imshow(random_digit_image, cmap=matplotlib.cm.binary, interpolation=\"nearest\")\n",
    "plt.axis(\"off\")\n",
    "plt.show()\n",
    "y[i]"
   ]
  },
  {
   "cell_type": "code",
   "execution_count": 5,
   "id": "1d12895b",
   "metadata": {},
   "outputs": [],
   "source": [
    "X_train,X_test,y_train,y_test = X[:6000],X[6000:7000],y[:6000],y[6000:7000]\n"
   ]
  },
  {
   "cell_type": "markdown",
   "id": "fdd873c1",
   "metadata": {},
   "source": [
    "# Shuffling the data"
   ]
  },
  {
   "cell_type": "code",
   "execution_count": 6,
   "id": "caf65950",
   "metadata": {},
   "outputs": [],
   "source": [
    "# import numpy as np\n",
    "# shuffle_index = np.random.permutation(6000)\n",
    "# X_train,y_train = X_train[shuffle_index],y_train[shuffle_index]"
   ]
  },
  {
   "cell_type": "markdown",
   "id": "f9b7ef80",
   "metadata": {},
   "source": [
    "# Creating a predictor using Binary Classifier"
   ]
  },
  {
   "cell_type": "code",
   "execution_count": 7,
   "id": "48412598",
   "metadata": {},
   "outputs": [
    {
     "name": "stdout",
     "output_type": "stream",
     "text": [
      "6000     True\n",
      "6001    False\n",
      "6002    False\n",
      "6003    False\n",
      "6004    False\n",
      "        ...  \n",
      "6995    False\n",
      "6996    False\n",
      "6997    False\n",
      "6998    False\n",
      "6999    False\n",
      "Name: class, Length: 1000, dtype: bool\n"
     ]
    }
   ],
   "source": [
    "y_train = y_train.astype(np.int8)\n",
    "y_test = y_test.astype(np.int8)\n",
    "y_train_2 = (y_train==6)\n",
    "y_test_2 = (y_test==6)\n",
    "print(y_test_2)"
   ]
  },
  {
   "cell_type": "markdown",
   "id": "5b0ee44d",
   "metadata": {},
   "source": [
    "# Training a Binary Classifier"
   ]
  },
  {
   "cell_type": "markdown",
   "id": "a0e01f47",
   "metadata": {},
   "source": [
    "# Creating A Predictor Using  Stochastic Gradient Decent Classifier"
   ]
  },
  {
   "cell_type": "code",
   "execution_count": 8,
   "id": "adf9de3c",
   "metadata": {},
   "outputs": [
    {
     "data": {
      "text/plain": [
       "array([False])"
      ]
     },
     "execution_count": 8,
     "metadata": {},
     "output_type": "execute_result"
    }
   ],
   "source": [
    "from sklearn.linear_model import SGDClassifier\n",
    "\n",
    "sgd_clf = SGDClassifier(random_state=42)\n",
    "sgd_clf.fit(X_train,y_train_2)\n",
    "sgd_clf.predict([random_digit])"
   ]
  },
  {
   "cell_type": "markdown",
   "id": "38907f0f",
   "metadata": {},
   "source": [
    "# Measuring accuracy using cross validation"
   ]
  },
  {
   "cell_type": "code",
   "execution_count": 9,
   "id": "8a3becd6",
   "metadata": {},
   "outputs": [
    {
     "data": {
      "text/plain": [
       "0.9813333333333333"
      ]
     },
     "execution_count": 9,
     "metadata": {},
     "output_type": "execute_result"
    }
   ],
   "source": [
    "from sklearn.model_selection import cross_val_score\n",
    "a = cross_val_score(sgd_clf, X_train, y_train_2, cv=3, scoring=\"accuracy\")\n",
    "a.mean()"
   ]
  },
  {
   "cell_type": "markdown",
   "id": "9a5cf669",
   "metadata": {},
   "source": [
    "# Creating A Predictor Using Support Vector Machine"
   ]
  },
  {
   "cell_type": "code",
   "execution_count": 10,
   "id": "7e616a07",
   "metadata": {},
   "outputs": [
    {
     "data": {
      "text/plain": [
       "array([False])"
      ]
     },
     "execution_count": 10,
     "metadata": {},
     "output_type": "execute_result"
    }
   ],
   "source": [
    "from sklearn import svm\n",
    "cls = svm.SVC()\n",
    "cls.fit(X_train, y_train_2)\n",
    "cls.predict([random_digit])"
   ]
  },
  {
   "cell_type": "markdown",
   "id": "2ef2a564",
   "metadata": {},
   "source": [
    "# Measuring accuracy using cross validation"
   ]
  },
  {
   "cell_type": "code",
   "execution_count": 11,
   "id": "fdff2849",
   "metadata": {},
   "outputs": [
    {
     "data": {
      "text/plain": [
       "0.9910000000000001"
      ]
     },
     "execution_count": 11,
     "metadata": {},
     "output_type": "execute_result"
    }
   ],
   "source": [
    "b= cross_val_score(cls, X_train , y_train_2, cv=3, scoring=\"accuracy\")\n",
    "b.mean()"
   ]
  },
  {
   "cell_type": "markdown",
   "id": "f78ef4c8",
   "metadata": {},
   "source": [
    "# To evaluate the performance of a classifier is to look at the confusion matrix\n",
    "# To compute confusion matrix first you need to have a set of predictions so they can be compared to the actual targets."
   ]
  },
  {
   "cell_type": "markdown",
   "id": "81636120",
   "metadata": {},
   "source": [
    "# for making prediction we can use cross_val_predict()"
   ]
  },
  {
   "cell_type": "code",
   "execution_count": 12,
   "id": "dfa55e3c",
   "metadata": {},
   "outputs": [],
   "source": [
    "from sklearn.model_selection import cross_val_predict\n",
    "y_train_pred = cross_val_predict(sgd_clf,X_train, y_train_2, cv=3)"
   ]
  },
  {
   "cell_type": "markdown",
   "id": "384c663b",
   "metadata": {},
   "source": [
    "# Now get the confusion matrix"
   ]
  },
  {
   "cell_type": "code",
   "execution_count": 13,
   "id": "c25b1f41",
   "metadata": {},
   "outputs": [
    {
     "data": {
      "text/plain": [
       "array([[5336,   56],\n",
       "       [  56,  552]], dtype=int64)"
      ]
     },
     "execution_count": 13,
     "metadata": {},
     "output_type": "execute_result"
    }
   ],
   "source": [
    "from sklearn.metrics import confusion_matrix\n",
    "confusion_matrix(y_train_2, y_train_pred)"
   ]
  },
  {
   "cell_type": "markdown",
   "id": "10a76aa0",
   "metadata": {},
   "source": []
  },
  {
   "cell_type": "code",
   "execution_count": 14,
   "id": "80b689ed",
   "metadata": {},
   "outputs": [
    {
     "data": {
      "text/plain": [
       "array([[5392,    0],\n",
       "       [   0,  608]], dtype=int64)"
      ]
     },
     "execution_count": 14,
     "metadata": {},
     "output_type": "execute_result"
    }
   ],
   "source": [
    "y_train_perfect_predictions = y_train_2\n",
    "confusion_matrix(y_train_2, y_train_perfect_predictions)"
   ]
  },
  {
   "cell_type": "markdown",
   "id": "55e4a82d",
   "metadata": {},
   "source": [
    "# Computing Precision and Recall"
   ]
  },
  {
   "cell_type": "code",
   "execution_count": 15,
   "id": "72c0213c",
   "metadata": {},
   "outputs": [
    {
     "data": {
      "text/plain": [
       "0.9078947368421053"
      ]
     },
     "execution_count": 15,
     "metadata": {},
     "output_type": "execute_result"
    }
   ],
   "source": [
    "from sklearn.metrics import precision_score, recall_score, f1_score\n",
    "precision_score(y_train_2, y_train_pred)\n"
   ]
  },
  {
   "cell_type": "code",
   "execution_count": 16,
   "id": "3bccfa04",
   "metadata": {},
   "outputs": [
    {
     "data": {
      "text/plain": [
       "0.9078947368421053"
      ]
     },
     "execution_count": 16,
     "metadata": {},
     "output_type": "execute_result"
    }
   ],
   "source": [
    "recall_score(y_train_2, y_train_pred)"
   ]
  },
  {
   "cell_type": "code",
   "execution_count": 17,
   "id": "55279619",
   "metadata": {},
   "outputs": [
    {
     "data": {
      "text/plain": [
       "0.9078947368421053"
      ]
     },
     "execution_count": 17,
     "metadata": {},
     "output_type": "execute_result"
    }
   ],
   "source": [
    "f1_score(y_train_2, y_train_pred)"
   ]
  },
  {
   "cell_type": "code",
   "execution_count": 18,
   "id": "7b20171c",
   "metadata": {},
   "outputs": [
    {
     "data": {
      "text/plain": [
       "array([-415199.53544803])"
      ]
     },
     "execution_count": 18,
     "metadata": {},
     "output_type": "execute_result"
    }
   ],
   "source": [
    "y_scores = sgd_clf.decision_function([random_digit])\n",
    "y_scores"
   ]
  },
  {
   "cell_type": "markdown",
   "id": "ab6c4006",
   "metadata": {},
   "source": [
    "# use of threshold (Precision/Recall Tradeoff)"
   ]
  },
  {
   "cell_type": "code",
   "execution_count": 20,
   "id": "47723fdc",
   "metadata": {},
   "outputs": [],
   "source": [
    "y_scores = cross_val_predict(sgd_clf, X_train,y_train_2, cv=3, method=\"decision_function\")"
   ]
  },
  {
   "cell_type": "code",
   "execution_count": 21,
   "id": "8af9b89e",
   "metadata": {},
   "outputs": [],
   "source": [
    "from sklearn.metrics import precision_recall_curve\n",
    "precisions, recalls, thresholds = precision_recall_curve(y_train_2, y_scores)"
   ]
  },
  {
   "cell_type": "code",
   "execution_count": 23,
   "id": "1fdbd521",
   "metadata": {},
   "outputs": [
    {
     "data": {
      "image/png": "[encoded data removed]",
      "text/plain": [
       "<Figure size 432x288 with 1 Axes>"
      ]
     },
     "metadata": {
      "needs_background": "light"
     },
     "output_type": "display_data"
    }
   ],
   "source": [
    "def plot_precision_recall_vs_threshold(precisions, recalls, thresholds):\n",
    "    plt.plot(thresholds, precisions[:-1],\"b--\", label=\"Precision\")\n",
    "    plt.plot(thresholds, recalls[:-1],\"g--\", label=\"Recall\")\n",
    "    \n",
    "plot_precision_recall_vs_threshold(precisions, recalls, thresholds)\n",
    "plt.show()"
   ]
  },
  {
   "cell_type": "code",
   "execution_count": 24,
   "id": "0861f7c6",
   "metadata": {},
   "outputs": [
    {
     "data": {
      "image/png": "[encoded data removed]",
      "text/plain": [
       "<Figure size 432x288 with 1 Axes>"
      ]
     },
     "metadata": {
      "needs_background": "light"
     },
     "output_type": "display_data"
    }
   ],
   "source": [
    "from sklearn.metrics import roc_curve\n",
    "fpr, tpr, thresholds = roc_curve(y_train_2, y_scores)\n",
    "\n",
    "def plot_roc_curve(fpr, tpr, label=None):\n",
    "    plt.plot(fpr, tpr, linewidth=2 , label=label)\n",
    "    plt.plot([0,1],[0,1], 'k--')\n",
    "\n",
    "plot_roc_curve(fpr, tpr)\n",
    "plt.show()"
   ]
  },
  {
   "cell_type": "code",
   "execution_count": 25,
   "id": "4dbce6d4",
   "metadata": {},
   "outputs": [
    {
     "data": {
      "text/plain": [
       "0.9879420535295954"
      ]
     },
     "execution_count": 25,
     "metadata": {},
     "output_type": "execute_result"
    }
   ],
   "source": [
    "from sklearn.metrics import roc_auc_score\n",
    "roc_auc_score(y_train_2, y_scores)"
   ]
  },
  {
   "cell_type": "code",
   "execution_count": null,
   "id": "6c69ec6b",
   "metadata": {},
   "outputs": [],
   "source": []
  },
  {
   "cell_type": "code",
   "execution_count": null,
   "id": "b6fe7e0c",
   "metadata": {},
   "outputs": [],
   "source": []
  },
  {
   "cell_type": "code",
   "execution_count": null,
   "id": "16f74f48",
   "metadata": {},
   "outputs": [],
   "source": []
  },
  {
   "cell_type": "code",
   "execution_count": null,
   "id": "fff3da3f",
   "metadata": {},
   "outputs": [],
   "source": []
  },
  {
   "cell_type": "code",
   "execution_count": null,
   "id": "51346f3d",
   "metadata": {},
   "outputs": [],
   "source": []
  }
 ],
 "metadata": {
  "kernelspec": {
   "display_name": "Python 3 (ipykernel)",
   "language": "python",
   "name": "python3"
  },
  "language_info": {
   "codemirror_mode": {
    "name": "ipython",
    "version": 3
   },
   "file_extension": ".py",
   "mimetype": "text/x-python",
   "name": "python",
   "nbconvert_exporter": "python",
   "pygments_lexer": "ipython3",
   "version": "3.9.7"
  }
 },
 "nbformat": 4,
 "nbformat_minor": 5
}
