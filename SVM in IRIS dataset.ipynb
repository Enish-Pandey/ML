{
 "cells": [
  {
   "cell_type": "markdown",
   "id": "3f7254e1",
   "metadata": {},
   "source": [
    "# data preprocessing step"
   ]
  },
  {
   "cell_type": "code",
   "execution_count": 1,
   "id": "6e481788",
   "metadata": {},
   "outputs": [],
   "source": [
    "import numpy as np\n",
    "import matplotlib.pyplot as plt\n",
    "import pandas as pd"
   ]
  },
  {
   "cell_type": "code",
   "execution_count": 2,
   "id": "4f25a0b2",
   "metadata": {},
   "outputs": [],
   "source": [
    "# importing datasets\n",
    "from sklearn.datasets import load_iris\n",
    "iris = load_iris()"
   ]
  },
  {
   "cell_type": "code",
   "execution_count": 3,
   "id": "381e994b",
   "metadata": {},
   "outputs": [],
   "source": [
    "#Extracting Independent and dependent Variable  \n",
    "X = iris['data'][:, (2,3)] #petal length and petal width\n",
    "y=(iris['target']==2).astype(np.float64) #Iris Virginica"
   ]
  },
  {
   "cell_type": "code",
   "execution_count": 4,
   "id": "91ae4c07",
   "metadata": {},
   "outputs": [
    {
     "data": {
      "text/plain": [
       "array([[4.2, 1.5],\n",
       "       [4. , 1.2],\n",
       "       [5.5, 2.1],\n",
       "       [1.3, 0.2],\n",
       "       [5.1, 2.3],\n",
       "       [1.6, 0.6],\n",
       "       [1.5, 0.2],\n",
       "       [3.5, 1. ],\n",
       "       [5.5, 1.8],\n",
       "       [5.7, 2.5],\n",
       "       [5. , 1.5],\n",
       "       [5.8, 1.8],\n",
       "       [3.9, 1.1],\n",
       "       [6.1, 2.3],\n",
       "       [4.7, 1.6],\n",
       "       [3.8, 1.1],\n",
       "       [4.9, 1.8],\n",
       "       [5.1, 1.5],\n",
       "       [4.5, 1.7],\n",
       "       [5. , 1.9],\n",
       "       [4.7, 1.4],\n",
       "       [5.2, 2. ],\n",
       "       [4.5, 1.6],\n",
       "       [1.6, 0.2],\n",
       "       [5.1, 1.9],\n",
       "       [4.2, 1.3],\n",
       "       [3.6, 1.3],\n",
       "       [4. , 1.3],\n",
       "       [4.6, 1.4],\n",
       "       [6. , 1.8],\n",
       "       [1.5, 0.2],\n",
       "       [1.1, 0.1],\n",
       "       [5.3, 1.9],\n",
       "       [4.2, 1.2],\n",
       "       [1.7, 0.2],\n",
       "       [1.5, 0.4],\n",
       "       [4.9, 1.5],\n",
       "       [1.5, 0.2],\n",
       "       [5.1, 1.8],\n",
       "       [3. , 1.1],\n",
       "       [1.4, 0.3],\n",
       "       [4.5, 1.5],\n",
       "       [6.1, 2.5],\n",
       "       [4.2, 1.3],\n",
       "       [1.4, 0.1],\n",
       "       [5.9, 2.1],\n",
       "       [5.7, 2.3],\n",
       "       [5.8, 2.2],\n",
       "       [5.6, 2.1],\n",
       "       [1.6, 0.2],\n",
       "       [1.6, 0.2],\n",
       "       [5.1, 2. ],\n",
       "       [5.7, 2.1],\n",
       "       [1.3, 0.3],\n",
       "       [5.4, 2.3],\n",
       "       [1.4, 0.2],\n",
       "       [5. , 2. ],\n",
       "       [5.4, 2.1],\n",
       "       [1.3, 0.2],\n",
       "       [1.4, 0.2],\n",
       "       [5.8, 1.6],\n",
       "       [1.4, 0.3],\n",
       "       [1.3, 0.2],\n",
       "       [1.7, 0.4],\n",
       "       [4. , 1.3],\n",
       "       [5.9, 2.3],\n",
       "       [6.6, 2.1],\n",
       "       [1.4, 0.2],\n",
       "       [1.5, 0.2],\n",
       "       [1.4, 0.2],\n",
       "       [4.5, 1.3],\n",
       "       [4.4, 1.4],\n",
       "       [1.2, 0.2],\n",
       "       [1.7, 0.5],\n",
       "       [4.3, 1.3],\n",
       "       [1.5, 0.4],\n",
       "       [6.9, 2.3],\n",
       "       [3.3, 1. ],\n",
       "       [6.4, 2. ],\n",
       "       [4.4, 1.4],\n",
       "       [1.5, 0.1],\n",
       "       [4.8, 1.8],\n",
       "       [1.2, 0.2],\n",
       "       [6.7, 2. ],\n",
       "       [1.5, 0.3],\n",
       "       [1.6, 0.2],\n",
       "       [6.1, 1.9],\n",
       "       [1.4, 0.2],\n",
       "       [5.6, 2.4],\n",
       "       [4.1, 1.3],\n",
       "       [3.9, 1.2],\n",
       "       [3.5, 1. ],\n",
       "       [5.3, 2.3],\n",
       "       [5.2, 2.3],\n",
       "       [4.9, 1.5],\n",
       "       [5. , 1.7],\n",
       "       [1.6, 0.2],\n",
       "       [3.7, 1. ],\n",
       "       [5.6, 2.4],\n",
       "       [5.1, 1.9],\n",
       "       [1.5, 0.2],\n",
       "       [4.6, 1.3],\n",
       "       [4.1, 1.3],\n",
       "       [4.8, 1.8],\n",
       "       [4.4, 1.3],\n",
       "       [1.3, 0.2],\n",
       "       [1.5, 0.4],\n",
       "       [1.5, 0.1],\n",
       "       [5.6, 1.8],\n",
       "       [4.1, 1. ],\n",
       "       [6.7, 2.2],\n",
       "       [1.4, 0.2]])"
      ]
     },
     "execution_count": 4,
     "metadata": {},
     "output_type": "execute_result"
    }
   ],
   "source": [
    "# Splitting the dataset into training and test set.  \n",
    "from sklearn.model_selection import train_test_split\n",
    "X_train, X_test, y_train, y_test = train_test_split(X,y, test_size=0.25, random_state=0)\n",
    "X_train"
   ]
  },
  {
   "cell_type": "code",
   "execution_count": 5,
   "id": "0f13a900",
   "metadata": {},
   "outputs": [
    {
     "data": {
      "text/plain": [
       "array([0.22512685, 0.35579762])"
      ]
     },
     "execution_count": 5,
     "metadata": {},
     "output_type": "execute_result"
    }
   ],
   "source": [
    "# feature scaling\n",
    "from sklearn.preprocessing import StandardScaler\n",
    "st_scaler = StandardScaler()\n",
    "X_train = st_scaler.fit_transform(X_train)\n",
    "X_test = st_scaler.transform(X_test)\n",
    "X_train[0]"
   ]
  },
  {
   "cell_type": "code",
   "execution_count": 37,
   "id": "72780c45",
   "metadata": {},
   "outputs": [
    {
     "data": {
      "text/plain": [
       "SVC(kernel='linear')"
      ]
     },
     "execution_count": 37,
     "metadata": {},
     "output_type": "execute_result"
    }
   ],
   "source": [
    "# Fitting the SVM classifier to the training set:\n",
    "from sklearn.svm import SVC\n",
    "classifier = SVC(kernel = 'linear')\n",
    "classifier.fit(X_train, y_train)"
   ]
  },
  {
   "cell_type": "code",
   "execution_count": 38,
   "id": "f4ee2dcd",
   "metadata": {},
   "outputs": [],
   "source": [
    "# predicting the test set result\n",
    "y_pred = classifier.predict(X_test)"
   ]
  },
  {
   "cell_type": "code",
   "execution_count": 39,
   "id": "7d3258c1",
   "metadata": {},
   "outputs": [
    {
     "name": "stdout",
     "output_type": "stream",
     "text": [
      "0.9736842105263158\n"
     ]
    }
   ],
   "source": [
    "from sklearn import metrics\n",
    "print(metrics.accuracy_score(y_test, y_pred))"
   ]
  },
  {
   "cell_type": "code",
   "execution_count": 14,
   "id": "e6718e97",
   "metadata": {},
   "outputs": [],
   "source": [
    "# creating the confueion matrix\n",
    "from sklearn.metrics import confusion_matrix\n",
    "cm= confusion_matrix(y_test, y_pred) #between our actual values and predicted values\n"
   ]
  },
  {
   "cell_type": "code",
   "execution_count": 15,
   "id": "9b9c21b8",
   "metadata": {},
   "outputs": [
    {
     "data": {
      "image/png": "[encoded data removed]",
      "text/plain": [
       "<Figure size 432x288 with 2 Axes>"
      ]
     },
     "metadata": {},
     "output_type": "display_data"
    }
   ],
   "source": [
    "import seaborn as sn\n",
    "# plt.figure(figsize=(10,7))\n",
    "sn.set(font_scale=1.4) # for label size\n",
    "sn.heatmap(cm, annot=True, annot_kws={\"size\": 16}) # font size\n",
    "\n",
    "plt.show()"
   ]
  },
  {
   "cell_type": "code",
   "execution_count": null,
   "id": "012a8074",
   "metadata": {},
   "outputs": [],
   "source": []
  },
  {
   "cell_type": "code",
   "execution_count": null,
   "id": "3a1e0a5f",
   "metadata": {},
   "outputs": [],
   "source": []
  },
  {
   "cell_type": "code",
   "execution_count": null,
   "id": "244fcd50",
   "metadata": {},
   "outputs": [],
   "source": []
  },
  {
   "cell_type": "code",
   "execution_count": null,
   "id": "8573e643",
   "metadata": {},
   "outputs": [],
   "source": []
  },
  {
   "cell_type": "code",
   "execution_count": null,
   "id": "767193a6",
   "metadata": {},
   "outputs": [],
   "source": []
  },
  {
   "cell_type": "code",
   "execution_count": null,
   "id": "8cca66af",
   "metadata": {},
   "outputs": [],
   "source": []
  },
  {
   "cell_type": "code",
   "execution_count": null,
   "id": "b4e40fa9",
   "metadata": {},
   "outputs": [],
   "source": []
  },
  {
   "cell_type": "code",
   "execution_count": null,
   "id": "878eca72",
   "metadata": {},
   "outputs": [],
   "source": []
  },
  {
   "cell_type": "code",
   "execution_count": null,
   "id": "66a6330c",
   "metadata": {},
   "outputs": [],
   "source": []
  },
  {
   "cell_type": "code",
   "execution_count": null,
   "id": "f0d9dc6c",
   "metadata": {},
   "outputs": [],
   "source": []
  }
 ],
 "metadata": {
  "kernelspec": {
   "display_name": "Python 3 (ipykernel)",
   "language": "python",
   "name": "python3"
  },
  "language_info": {
   "codemirror_mode": {
    "name": "ipython",
    "version": 3
   },
   "file_extension": ".py",
   "mimetype": "text/x-python",
   "name": "python",
   "nbconvert_exporter": "python",
   "pygments_lexer": "ipython3",
   "version": "3.9.7"
  }
 },
 "nbformat": 4,
 "nbformat_minor": 5
}
